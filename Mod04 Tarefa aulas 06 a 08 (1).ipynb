{
 "cells": [
  {
   "cell_type": "markdown",
   "metadata": {},
   "source": [
    "# Tarefa 03\n",
    "\n",
    "- Leia os enunciados com atenção\n",
    "- Saiba que pode haver mais de uma resposta correta\n",
    "- Insira novas células de código sempre que achar necessário\n",
    "- Em caso de dúvidas, procure os Tutores\n",
    "- Divirta-se :)"
   ]
  },
  {
   "cell_type": "code",
   "execution_count": 2,
   "metadata": {
    "tags": []
   },
   "outputs": [],
   "source": [
    "import pandas as pd\n",
    "import requests"
   ]
  },
  {
   "cell_type": "markdown",
   "metadata": {},
   "source": [
    "####  1) Lendo de APIs\n",
    "Vimos em aula como carregar dados públicos do governo através de um API (*Application Programming Interface*). No exemplo de aula, baixamos os dados de pedidos de verificação de limites (PVL) realizados por estados, e selecionamos apenas aqueles referentes ao estado de São Paulo.\n",
    "\n",
    "1. Repita os mesmos passos feitos em aula, mas selecione os PVLs realizados por municípios no estado do Rio de Janeiro.\n",
    "2. Quais são os três *status* das solicitações mais frequentes na base? Quais são suas frequências?\n",
    "3. Construa uma nova variável que contenha o ano do **status**. Observe que ```data_status``` vem como tipo *object* no **DataFrame**. Dica: você pode usar o método ```.str``` para transformar o tipo da variável em string, em seguida um método como [**slice()**](https://pandas.pydata.org/docs/reference/api/pandas.Series.str.slice.html) ou [**split()**](https://pandas.pydata.org/pandas-docs/stable/reference/api/pandas.Series.str.split.html).\n",
    "4. Indique a frequência de cada ano do campo construído no item (3)."
   ]
  },
  {
   "cell_type": "code",
   "execution_count": 26,
   "metadata": {
    "tags": []
   },
   "outputs": [
    {
     "data": {
      "text/html": [
       "<div>\n",
       "<style scoped>\n",
       "    .dataframe tbody tr th:only-of-type {\n",
       "        vertical-align: middle;\n",
       "    }\n",
       "\n",
       "    .dataframe tbody tr th {\n",
       "        vertical-align: top;\n",
       "    }\n",
       "\n",
       "    .dataframe thead th {\n",
       "        text-align: right;\n",
       "    }\n",
       "</style>\n",
       "<table border=\"1\" class=\"dataframe\">\n",
       "  <thead>\n",
       "    <tr style=\"text-align: right;\">\n",
       "      <th></th>\n",
       "      <th>id_pleito</th>\n",
       "      <th>tipo_interessado</th>\n",
       "      <th>interessado</th>\n",
       "      <th>cod_ibge</th>\n",
       "      <th>uf</th>\n",
       "      <th>num_pvl</th>\n",
       "      <th>status</th>\n",
       "      <th>num_processo</th>\n",
       "      <th>data_protocolo</th>\n",
       "      <th>tipo_operacao</th>\n",
       "      <th>finalidade</th>\n",
       "      <th>tipo_credor</th>\n",
       "      <th>credor</th>\n",
       "      <th>moeda</th>\n",
       "      <th>valor</th>\n",
       "      <th>pvl_assoc_divida</th>\n",
       "      <th>pvl_contradado_credor</th>\n",
       "      <th>data_status</th>\n",
       "    </tr>\n",
       "  </thead>\n",
       "  <tbody>\n",
       "    <tr>\n",
       "      <th>0</th>\n",
       "      <td>6660</td>\n",
       "      <td>Estado</td>\n",
       "      <td>Rio de Janeiro</td>\n",
       "      <td>33</td>\n",
       "      <td>RJ</td>\n",
       "      <td>None</td>\n",
       "      <td>Deferido</td>\n",
       "      <td>17944.000403/2010-81</td>\n",
       "      <td>2010-05-24T03:00:00Z</td>\n",
       "      <td>Operação contratual interna</td>\n",
       "      <td>PAC - Favelas</td>\n",
       "      <td>Instituição Financeira Nacional</td>\n",
       "      <td>Caixa Econômica Federal</td>\n",
       "      <td>Real</td>\n",
       "      <td>6.060466e+08</td>\n",
       "      <td>1</td>\n",
       "      <td>0</td>\n",
       "      <td>06/07/2010</td>\n",
       "    </tr>\n",
       "    <tr>\n",
       "      <th>1</th>\n",
       "      <td>9050</td>\n",
       "      <td>Estado</td>\n",
       "      <td>Rio de Janeiro</td>\n",
       "      <td>33</td>\n",
       "      <td>RJ</td>\n",
       "      <td>None</td>\n",
       "      <td>Encaminhado à PGFN com manifestação técnica fa...</td>\n",
       "      <td>17944.000893/2010-16</td>\n",
       "      <td>2011-06-03T03:00:00Z</td>\n",
       "      <td>Operação contratual interna (com garantia da U...</td>\n",
       "      <td>Infraestrutura</td>\n",
       "      <td>Instituição Financeira Nacional</td>\n",
       "      <td>Caixa Econômica Federal</td>\n",
       "      <td>Real</td>\n",
       "      <td>2.591383e+08</td>\n",
       "      <td>1</td>\n",
       "      <td>0</td>\n",
       "      <td>04/07/2011</td>\n",
       "    </tr>\n",
       "  </tbody>\n",
       "</table>\n",
       "</div>"
      ],
      "text/plain": [
       "   id_pleito tipo_interessado     interessado  cod_ibge  uf num_pvl  \\\n",
       "0       6660           Estado  Rio de Janeiro        33  RJ    None   \n",
       "1       9050           Estado  Rio de Janeiro        33  RJ    None   \n",
       "\n",
       "                                              status          num_processo  \\\n",
       "0                                           Deferido  17944.000403/2010-81   \n",
       "1  Encaminhado à PGFN com manifestação técnica fa...  17944.000893/2010-16   \n",
       "\n",
       "         data_protocolo                                      tipo_operacao  \\\n",
       "0  2010-05-24T03:00:00Z                        Operação contratual interna   \n",
       "1  2011-06-03T03:00:00Z  Operação contratual interna (com garantia da U...   \n",
       "\n",
       "       finalidade                      tipo_credor                   credor  \\\n",
       "0   PAC - Favelas  Instituição Financeira Nacional  Caixa Econômica Federal   \n",
       "1  Infraestrutura  Instituição Financeira Nacional  Caixa Econômica Federal   \n",
       "\n",
       "  moeda         valor  pvl_assoc_divida  pvl_contradado_credor data_status  \n",
       "0  Real  6.060466e+08                 1                      0  06/07/2010  \n",
       "1  Real  2.591383e+08                 1                      0  04/07/2011  "
      ]
     },
     "execution_count": 26,
     "metadata": {},
     "output_type": "execute_result"
    }
   ],
   "source": [
    "# 1) Seu código aqui\n",
    "url = 'https://apidatalake.tesouro.gov.br/ords/sadipem/tt/pvl?uf=RJ&tipo_interessado=Estado'\n",
    "dados_rj = requests.get(url)  \n",
    "dados_rj.status_code\n",
    "data_rj_json = dados_rj.json()\n",
    "df_rj = pd.DataFrame(data_rj_json['items'])\n",
    "df_rj.head(2)"
   ]
  },
  {
   "cell_type": "code",
   "execution_count": 28,
   "metadata": {
    "tags": []
   },
   "outputs": [
    {
     "data": {
      "text/plain": [
       "status\n",
       "Encaminhado à PGFN com manifestação técnica favorável    34\n",
       "Deferido                                                 14\n",
       "Arquivado a pedido                                        3\n",
       "Arquivado por decurso de prazo                            1\n",
       "Name: count, dtype: int64"
      ]
     },
     "execution_count": 28,
     "metadata": {},
     "output_type": "execute_result"
    }
   ],
   "source": [
    "# 2) Seu código aqui\n",
    "df_rj['status'].value_counts()"
   ]
  },
  {
   "cell_type": "code",
   "execution_count": 34,
   "metadata": {},
   "outputs": [],
   "source": [
    "# 3) Seu código aqui\n",
    "ano_data_status = df_rj['data_status']\n",
    "ano_status = ano_data_status.str.slice(start=6, stop=10, step=1)\n"
   ]
  },
  {
   "cell_type": "code",
   "execution_count": 36,
   "metadata": {
    "tags": []
   },
   "outputs": [
    {
     "data": {
      "text/plain": [
       "data_status\n",
       "2012    11\n",
       "2009     9\n",
       "2013     7\n",
       "2011     6\n",
       "2016     4\n",
       "2002     4\n",
       "2014     4\n",
       "2010     3\n",
       "2008     2\n",
       "2006     2\n",
       "Name: count, dtype: int64"
      ]
     },
     "execution_count": 36,
     "metadata": {},
     "output_type": "execute_result"
    }
   ],
   "source": [
    "#4 \n",
    "ano_status.value_counts()"
   ]
  },
  {
   "cell_type": "markdown",
   "metadata": {},
   "source": [
    "####  2) Melhorando a interação com o API\n",
    "Observe dois URLs de consultas diferentes, por exemplo o URL utilizado em aula, e o URL feito no exercício anterior. Compare-os e observe as diferenças.\n",
    "\n",
    "1. Faça uma função em Python que recebe como argumento o UF da consulta e o tipo de interessado (```'Estado'```ou ```Município```), e que devolve os dados da consulta no formato *DataFrame*.\n",
    "2. Quantas solicitações para o Estado podem ser consultadas para Minas Gerais com *status* em 'Arquivado por decurso de prazo' estão registradas?\n",
    "3. Qual é o município da Bahia com mais solicitações deferidas?\n",
    "4. Salve um arquivo .csv com os dados de solicitações da Bahia, com interessado = 'Estado'"
   ]
  },
  {
   "cell_type": "code",
   "execution_count": 52,
   "metadata": {},
   "outputs": [
    {
     "name": "stdout",
     "output_type": "stream",
     "text": [
      "Digite o estado (UF) desejado\n"
     ]
    },
    {
     "name": "stdin",
     "output_type": "stream",
     "text": [
      " sp\n"
     ]
    },
    {
     "data": {
      "text/html": [
       "<div>\n",
       "<style scoped>\n",
       "    .dataframe tbody tr th:only-of-type {\n",
       "        vertical-align: middle;\n",
       "    }\n",
       "\n",
       "    .dataframe tbody tr th {\n",
       "        vertical-align: top;\n",
       "    }\n",
       "\n",
       "    .dataframe thead th {\n",
       "        text-align: right;\n",
       "    }\n",
       "</style>\n",
       "<table border=\"1\" class=\"dataframe\">\n",
       "  <thead>\n",
       "    <tr style=\"text-align: right;\">\n",
       "      <th></th>\n",
       "      <th>id_pleito</th>\n",
       "      <th>tipo_interessado</th>\n",
       "      <th>interessado</th>\n",
       "      <th>cod_ibge</th>\n",
       "      <th>uf</th>\n",
       "      <th>num_pvl</th>\n",
       "      <th>status</th>\n",
       "      <th>num_processo</th>\n",
       "      <th>data_protocolo</th>\n",
       "      <th>tipo_operacao</th>\n",
       "      <th>finalidade</th>\n",
       "      <th>tipo_credor</th>\n",
       "      <th>credor</th>\n",
       "      <th>moeda</th>\n",
       "      <th>valor</th>\n",
       "      <th>pvl_assoc_divida</th>\n",
       "      <th>pvl_contradado_credor</th>\n",
       "      <th>data_status</th>\n",
       "    </tr>\n",
       "  </thead>\n",
       "  <tbody>\n",
       "    <tr>\n",
       "      <th>3</th>\n",
       "      <td>5248</td>\n",
       "      <td>Estado</td>\n",
       "      <td>São Paulo</td>\n",
       "      <td>35</td>\n",
       "      <td>SP</td>\n",
       "      <td>None</td>\n",
       "      <td>Encaminhado à PGFN com manifestação técnica fa...</td>\n",
       "      <td>17944.000068/2013-64</td>\n",
       "      <td>2014-07-01T03:00:00Z</td>\n",
       "      <td>Operação contratual externa (com garantia da U...</td>\n",
       "      <td>Infraestrutura</td>\n",
       "      <td>Instituição Financeira Internacional</td>\n",
       "      <td>Corporação Andina de Fomento</td>\n",
       "      <td>Dólar dos EUA</td>\n",
       "      <td>2.000000e+08</td>\n",
       "      <td>1</td>\n",
       "      <td>0</td>\n",
       "      <td>07/08/2014</td>\n",
       "    </tr>\n",
       "    <tr>\n",
       "      <th>11</th>\n",
       "      <td>5701</td>\n",
       "      <td>Estado</td>\n",
       "      <td>São Paulo</td>\n",
       "      <td>35</td>\n",
       "      <td>SP</td>\n",
       "      <td>None</td>\n",
       "      <td>Encaminhado à PGFN com manifestação técnica fa...</td>\n",
       "      <td>17944.000175/2013-92</td>\n",
       "      <td>2013-06-13T03:00:00Z</td>\n",
       "      <td>Operação contratual externa (com garantia da U...</td>\n",
       "      <td>Multissetorial</td>\n",
       "      <td>Instituição Financeira Internacional</td>\n",
       "      <td>Banco Internacional para Reconstrução e Desenv...</td>\n",
       "      <td>Dólar dos EUA</td>\n",
       "      <td>3.000000e+08</td>\n",
       "      <td>1</td>\n",
       "      <td>0</td>\n",
       "      <td>03/07/2013</td>\n",
       "    </tr>\n",
       "    <tr>\n",
       "      <th>14</th>\n",
       "      <td>67164</td>\n",
       "      <td>Estado</td>\n",
       "      <td>São Paulo</td>\n",
       "      <td>35</td>\n",
       "      <td>SP</td>\n",
       "      <td>PVL02.003925/2023-97</td>\n",
       "      <td>Em análise</td>\n",
       "      <td>17944.105321/2023-47</td>\n",
       "      <td>2023-11-10T19:30:44Z</td>\n",
       "      <td>Operação contratual interna (com garantia da U...</td>\n",
       "      <td>Aporte em PPP</td>\n",
       "      <td>Instituição Financeira Nacional</td>\n",
       "      <td>Banco Nacional de Desenvolvimento Econômico e ...</td>\n",
       "      <td>Real</td>\n",
       "      <td>3.200000e+09</td>\n",
       "      <td>0</td>\n",
       "      <td>0</td>\n",
       "      <td>16/11/2023</td>\n",
       "    </tr>\n",
       "    <tr>\n",
       "      <th>35</th>\n",
       "      <td>9123</td>\n",
       "      <td>Estado</td>\n",
       "      <td>São Paulo</td>\n",
       "      <td>35</td>\n",
       "      <td>SP</td>\n",
       "      <td>None</td>\n",
       "      <td>Encaminhado à PGFN com manifestação técnica fa...</td>\n",
       "      <td>17944.000908/2005-89</td>\n",
       "      <td>2005-07-28T03:00:00Z</td>\n",
       "      <td>Operação contratual externa (com garantia da U...</td>\n",
       "      <td>Preservação e recuperação ambiental</td>\n",
       "      <td>Instituição Financeira Internacional</td>\n",
       "      <td>Banco Interamericano de Desenvolvimento</td>\n",
       "      <td>Dólar dos EUA</td>\n",
       "      <td>9.000000e+06</td>\n",
       "      <td>1</td>\n",
       "      <td>0</td>\n",
       "      <td>25/01/2006</td>\n",
       "    </tr>\n",
       "    <tr>\n",
       "      <th>61</th>\n",
       "      <td>7476</td>\n",
       "      <td>Estado</td>\n",
       "      <td>São Paulo</td>\n",
       "      <td>35</td>\n",
       "      <td>SP</td>\n",
       "      <td>None</td>\n",
       "      <td>Deferido</td>\n",
       "      <td>17944.000588/2014-58</td>\n",
       "      <td>2014-04-16T03:00:00Z</td>\n",
       "      <td>Operação contratual interna</td>\n",
       "      <td>Infraestrutura</td>\n",
       "      <td>Instituição Financeira Nacional</td>\n",
       "      <td>Banco Nacional de Desenvolvimento Econômico e ...</td>\n",
       "      <td>Real</td>\n",
       "      <td>1.700000e+09</td>\n",
       "      <td>1</td>\n",
       "      <td>0</td>\n",
       "      <td>30/04/2014</td>\n",
       "    </tr>\n",
       "  </tbody>\n",
       "</table>\n",
       "</div>"
      ],
      "text/plain": [
       "    id_pleito tipo_interessado interessado  cod_ibge  uf  \\\n",
       "3        5248           Estado   São Paulo        35  SP   \n",
       "11       5701           Estado   São Paulo        35  SP   \n",
       "14      67164           Estado   São Paulo        35  SP   \n",
       "35       9123           Estado   São Paulo        35  SP   \n",
       "61       7476           Estado   São Paulo        35  SP   \n",
       "\n",
       "                 num_pvl                                             status  \\\n",
       "3                   None  Encaminhado à PGFN com manifestação técnica fa...   \n",
       "11                  None  Encaminhado à PGFN com manifestação técnica fa...   \n",
       "14  PVL02.003925/2023-97                                         Em análise   \n",
       "35                  None  Encaminhado à PGFN com manifestação técnica fa...   \n",
       "61                  None                                           Deferido   \n",
       "\n",
       "            num_processo        data_protocolo  \\\n",
       "3   17944.000068/2013-64  2014-07-01T03:00:00Z   \n",
       "11  17944.000175/2013-92  2013-06-13T03:00:00Z   \n",
       "14  17944.105321/2023-47  2023-11-10T19:30:44Z   \n",
       "35  17944.000908/2005-89  2005-07-28T03:00:00Z   \n",
       "61  17944.000588/2014-58  2014-04-16T03:00:00Z   \n",
       "\n",
       "                                        tipo_operacao  \\\n",
       "3   Operação contratual externa (com garantia da U...   \n",
       "11  Operação contratual externa (com garantia da U...   \n",
       "14  Operação contratual interna (com garantia da U...   \n",
       "35  Operação contratual externa (com garantia da U...   \n",
       "61                        Operação contratual interna   \n",
       "\n",
       "                             finalidade                           tipo_credor  \\\n",
       "3                        Infraestrutura  Instituição Financeira Internacional   \n",
       "11                       Multissetorial  Instituição Financeira Internacional   \n",
       "14                        Aporte em PPP       Instituição Financeira Nacional   \n",
       "35  Preservação e recuperação ambiental  Instituição Financeira Internacional   \n",
       "61                       Infraestrutura       Instituição Financeira Nacional   \n",
       "\n",
       "                                               credor          moeda  \\\n",
       "3                        Corporação Andina de Fomento  Dólar dos EUA   \n",
       "11  Banco Internacional para Reconstrução e Desenv...  Dólar dos EUA   \n",
       "14  Banco Nacional de Desenvolvimento Econômico e ...           Real   \n",
       "35            Banco Interamericano de Desenvolvimento  Dólar dos EUA   \n",
       "61  Banco Nacional de Desenvolvimento Econômico e ...           Real   \n",
       "\n",
       "           valor  pvl_assoc_divida  pvl_contradado_credor data_status  \n",
       "3   2.000000e+08                 1                      0  07/08/2014  \n",
       "11  3.000000e+08                 1                      0  03/07/2013  \n",
       "14  3.200000e+09                 0                      0  16/11/2023  \n",
       "35  9.000000e+06                 1                      0  25/01/2006  \n",
       "61  1.700000e+09                 1                      0  30/04/2014  "
      ]
     },
     "execution_count": 52,
     "metadata": {},
     "output_type": "execute_result"
    }
   ],
   "source": [
    "#1) Seu código aqui\n",
    "\n",
    "url = 'https://apidatalake.tesouro.gov.br/ords/sadipem/tt/pvl?tipo_interessado=Estado'\n",
    "dados_uf = requests.get(url)  \n",
    "#dados_uf.status_code\n",
    "data_uf_json = dados_uf.json()\n",
    "\n",
    "df_uf = pd.DataFrame(data_uf_json['items'])\n",
    "df_uf.head(2)\n",
    "print('Digite o estado (UF) desejado')\n",
    "filtro_df_uf = df_uf.loc[df_uf['uf'] == input().upper()]\n",
    "filtro_df_uf.head()"
   ]
  },
  {
   "cell_type": "code",
   "execution_count": 54,
   "metadata": {},
   "outputs": [
    {
     "data": {
      "text/plain": [
       "status\n",
       "Encaminhado à PGFN com manifestação técnica favorável    20\n",
       "Deferido                                                  7\n",
       "Arquivado a pedido                                        5\n",
       "Arquivado                                                 3\n",
       "Arquivado pela STN                                        3\n",
       "Arquivado por decurso de prazo                            1\n",
       "Indeferido                                                1\n",
       "Name: count, dtype: int64"
      ]
     },
     "execution_count": 54,
     "metadata": {},
     "output_type": "execute_result"
    }
   ],
   "source": [
    "# 2) Seu código aqui\n",
    "\n",
    "df_mg = df_uf.loc[df_uf['uf'] == 'MG']\n",
    "df_mg['status'].value_counts()"
   ]
  },
  {
   "cell_type": "code",
   "execution_count": 56,
   "metadata": {},
   "outputs": [
    {
     "data": {
      "text/html": [
       "<div>\n",
       "<style scoped>\n",
       "    .dataframe tbody tr th:only-of-type {\n",
       "        vertical-align: middle;\n",
       "    }\n",
       "\n",
       "    .dataframe tbody tr th {\n",
       "        vertical-align: top;\n",
       "    }\n",
       "\n",
       "    .dataframe thead th {\n",
       "        text-align: right;\n",
       "    }\n",
       "</style>\n",
       "<table border=\"1\" class=\"dataframe\">\n",
       "  <thead>\n",
       "    <tr style=\"text-align: right;\">\n",
       "      <th></th>\n",
       "      <th>id_pleito</th>\n",
       "      <th>tipo_interessado</th>\n",
       "      <th>interessado</th>\n",
       "      <th>cod_ibge</th>\n",
       "      <th>uf</th>\n",
       "      <th>num_pvl</th>\n",
       "      <th>status</th>\n",
       "      <th>num_processo</th>\n",
       "      <th>data_protocolo</th>\n",
       "      <th>tipo_operacao</th>\n",
       "      <th>finalidade</th>\n",
       "      <th>tipo_credor</th>\n",
       "      <th>credor</th>\n",
       "      <th>moeda</th>\n",
       "      <th>valor</th>\n",
       "      <th>pvl_assoc_divida</th>\n",
       "      <th>pvl_contradado_credor</th>\n",
       "      <th>data_status</th>\n",
       "    </tr>\n",
       "  </thead>\n",
       "  <tbody>\n",
       "    <tr>\n",
       "      <th>0</th>\n",
       "      <td>60731</td>\n",
       "      <td>Município</td>\n",
       "      <td>Barra da Estiva</td>\n",
       "      <td>2902807</td>\n",
       "      <td>BA</td>\n",
       "      <td>PVL02.007122/2022-21</td>\n",
       "      <td>Deferido (PVL-IF)</td>\n",
       "      <td>None</td>\n",
       "      <td>None</td>\n",
       "      <td>Operação contratual interna</td>\n",
       "      <td>Infraestrutura</td>\n",
       "      <td>Instituição Financeira Nacional</td>\n",
       "      <td>Agência de Fomento do Estado da Bahia S/A</td>\n",
       "      <td>Real</td>\n",
       "      <td>4000000.0</td>\n",
       "      <td>0</td>\n",
       "      <td>1</td>\n",
       "      <td>15/07/2022</td>\n",
       "    </tr>\n",
       "    <tr>\n",
       "      <th>1</th>\n",
       "      <td>64401</td>\n",
       "      <td>Município</td>\n",
       "      <td>Barreiras</td>\n",
       "      <td>2903201</td>\n",
       "      <td>BA</td>\n",
       "      <td>PVL02.001147/2023-00</td>\n",
       "      <td>Deferido</td>\n",
       "      <td>17944.101999/2023-51</td>\n",
       "      <td>2023-05-10T13:55:39Z</td>\n",
       "      <td>Operação contratual interna</td>\n",
       "      <td>Infraestrutura</td>\n",
       "      <td>Instituição Financeira Nacional</td>\n",
       "      <td>Caixa Econômica Federal</td>\n",
       "      <td>Real</td>\n",
       "      <td>40000000.0</td>\n",
       "      <td>0</td>\n",
       "      <td>1</td>\n",
       "      <td>17/05/2023</td>\n",
       "    </tr>\n",
       "  </tbody>\n",
       "</table>\n",
       "</div>"
      ],
      "text/plain": [
       "   id_pleito tipo_interessado      interessado  cod_ibge  uf  \\\n",
       "0      60731        Município  Barra da Estiva   2902807  BA   \n",
       "1      64401        Município        Barreiras   2903201  BA   \n",
       "\n",
       "                num_pvl             status          num_processo  \\\n",
       "0  PVL02.007122/2022-21  Deferido (PVL-IF)                  None   \n",
       "1  PVL02.001147/2023-00           Deferido  17944.101999/2023-51   \n",
       "\n",
       "         data_protocolo                tipo_operacao      finalidade  \\\n",
       "0                  None  Operação contratual interna  Infraestrutura   \n",
       "1  2023-05-10T13:55:39Z  Operação contratual interna  Infraestrutura   \n",
       "\n",
       "                       tipo_credor                                     credor  \\\n",
       "0  Instituição Financeira Nacional  Agência de Fomento do Estado da Bahia S/A   \n",
       "1  Instituição Financeira Nacional                    Caixa Econômica Federal   \n",
       "\n",
       "  moeda       valor  pvl_assoc_divida  pvl_contradado_credor data_status  \n",
       "0  Real   4000000.0                 0                      1  15/07/2022  \n",
       "1  Real  40000000.0                 0                      1  17/05/2023  "
      ]
     },
     "execution_count": 56,
     "metadata": {},
     "output_type": "execute_result"
    }
   ],
   "source": [
    "# 3) Seu código aqui\n",
    "url = 'https://apidatalake.tesouro.gov.br/ords/sadipem/tt/pvl?uf=BA&tipo_interessado=Munic%C3%ADpio'\n",
    "mun_ba = requests.get(url)  \n",
    "data_uf_json = mun_ba.json()\n",
    "\n",
    "df_ba_mun = pd.DataFrame(data_uf_json['items'])\n",
    "df_ba_mun.head(2)"
   ]
  },
  {
   "cell_type": "code",
   "execution_count": 68,
   "metadata": {
    "tags": []
   },
   "outputs": [
    {
     "data": {
      "text/plain": [
       "interessado\n",
       "Luís Eduardo Magalhães    16\n",
       "Vitória da Conquista      12\n",
       "Barreiras                 10\n",
       "Camaçari                  10\n",
       "Lauro de Freitas          10\n",
       "                          ..\n",
       "Malhada                    1\n",
       "Sobradinho                 1\n",
       "Cafarnaum                  1\n",
       "Itapicuru                  1\n",
       "Itagibá                    1\n",
       "Name: count, Length: 185, dtype: int64"
      ]
     },
     "execution_count": 68,
     "metadata": {},
     "output_type": "execute_result"
    }
   ],
   "source": [
    "df_ba_def = df_ba_mun.loc[df_ba_mun['status'] == 'Deferido']\n",
    "df_ba_def['interessado'].value_counts()"
   ]
  },
  {
   "cell_type": "code",
   "execution_count": 70,
   "metadata": {
    "tags": []
   },
   "outputs": [],
   "source": [
    "# 4) Seu código aqui\n",
    "df_ba_def.to_csv('dados_estado_Bahia')"
   ]
  }
 ],
 "metadata": {
  "kernelspec": {
   "display_name": "Python 3 (ipykernel)",
   "language": "python",
   "name": "python3"
  },
  "language_info": {
   "codemirror_mode": {
    "name": "ipython",
    "version": 3
   },
   "file_extension": ".py",
   "mimetype": "text/x-python",
   "name": "python",
   "nbconvert_exporter": "python",
   "pygments_lexer": "ipython3",
   "version": "3.11.5"
  }
 },
 "nbformat": 4,
 "nbformat_minor": 4
}
